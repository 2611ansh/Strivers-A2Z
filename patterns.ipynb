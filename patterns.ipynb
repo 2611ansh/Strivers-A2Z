{
 "cells": [
  {
   "cell_type": "code",
   "execution_count": 1,
   "metadata": {},
   "outputs": [
    {
     "name": "stdout",
     "output_type": "stream",
     "text": [
      "*****\n",
      "*****\n",
      "*****\n",
      "*****\n",
      "*****\n"
     ]
    }
   ],
   "source": [
    "def pattern1(n):\n",
    "    for i in range(n):\n",
    "        for j in range(n):\n",
    "            print(\"*\", end = \"\")\n",
    "        print()\n",
    "pattern1(5)"
   ]
  },
  {
   "cell_type": "code",
   "execution_count": 8,
   "metadata": {},
   "outputs": [
    {
     "name": "stdout",
     "output_type": "stream",
     "text": [
      "*\n",
      "**\n",
      "***\n",
      "****\n",
      "*****\n"
     ]
    }
   ],
   "source": [
    "def pattern2(n):\n",
    "    for i in range(n):\n",
    "        for j in range(i+1):\n",
    "            print(\"*\", end = \"\")\n",
    "        print()\n",
    "pattern2(5)"
   ]
  },
  {
   "cell_type": "code",
   "execution_count": 11,
   "metadata": {},
   "outputs": [
    {
     "name": "stdout",
     "output_type": "stream",
     "text": [
      "1\n",
      "12\n",
      "123\n",
      "1234\n",
      "12345\n"
     ]
    }
   ],
   "source": [
    "def pattern3(n):\n",
    "    for i in range(n):\n",
    "        for j in range(i+1):\n",
    "            print(j+1,end = \"\")\n",
    "        print()\n",
    "pattern3(5)"
   ]
  },
  {
   "cell_type": "code",
   "execution_count": 12,
   "metadata": {},
   "outputs": [
    {
     "name": "stdout",
     "output_type": "stream",
     "text": [
      "1\n",
      "22\n",
      "333\n",
      "4444\n",
      "55555\n"
     ]
    }
   ],
   "source": [
    "def pattern4(n):\n",
    "    for i in range(n):\n",
    "        for j in range(i+1):\n",
    "            print(i+1, end = \"\")\n",
    "        print()\n",
    "pattern4(5)"
   ]
  },
  {
   "cell_type": "code",
   "execution_count": 13,
   "metadata": {},
   "outputs": [
    {
     "name": "stdout",
     "output_type": "stream",
     "text": [
      "*****\n",
      "****\n",
      "***\n",
      "**\n",
      "*\n"
     ]
    }
   ],
   "source": [
    "def pattern5(n):\n",
    "    for i in range(n):\n",
    "        for j in range(n-i):\n",
    "            print(\"*\", end = \"\")\n",
    "        print()\n",
    "pattern5(5)"
   ]
  },
  {
   "cell_type": "code",
   "execution_count": 14,
   "metadata": {},
   "outputs": [
    {
     "name": "stdout",
     "output_type": "stream",
     "text": [
      "12345\n",
      "1234\n",
      "123\n",
      "12\n",
      "1\n"
     ]
    }
   ],
   "source": [
    "def pattern6(n):\n",
    "    for i in range(5):\n",
    "        for j in range(n-i):\n",
    "            print(j+1, end = \"\")\n",
    "        print()\n",
    "pattern6(5)"
   ]
  },
  {
   "cell_type": "code",
   "execution_count": 65,
   "metadata": {},
   "outputs": [
    {
     "name": "stdout",
     "output_type": "stream",
     "text": [
      "    *\n",
      "   ***\n",
      "  *****\n",
      " *******\n",
      "*********\n"
     ]
    }
   ],
   "source": [
    "def pattern7(n):\n",
    "    for i in range(n):\n",
    "        for j in range(n-i-1):\n",
    "            print(\" \", end = \"\")\n",
    "        for k in range(2*i+1):\n",
    "            print(\"*\", end = \"\")\n",
    "        print()\n",
    "pattern7(5)"
   ]
  },
  {
   "cell_type": "code",
   "execution_count": 66,
   "metadata": {},
   "outputs": [
    {
     "name": "stdout",
     "output_type": "stream",
     "text": [
      "*********\n",
      " *******\n",
      "  *****\n",
      "   ***\n",
      "    *\n"
     ]
    }
   ],
   "source": [
    "def pattern8(n):\n",
    "    for i in range(n-1,-1,-1):\n",
    "        for j in range(n-i-1):\n",
    "            print(\" \", end = \"\")\n",
    "        for k in range(2*i+1):\n",
    "            print(\"*\", end = \"\")\n",
    "        print()\n",
    "pattern8(5)"
   ]
  },
  {
   "cell_type": "code",
   "execution_count": 67,
   "metadata": {},
   "outputs": [
    {
     "name": "stdout",
     "output_type": "stream",
     "text": [
      "    *\n",
      "   ***\n",
      "  *****\n",
      " *******\n",
      "*********\n",
      "*********\n",
      " *******\n",
      "  *****\n",
      "   ***\n",
      "    *\n"
     ]
    }
   ],
   "source": [
    "def pattern9(n):\n",
    "    pattern7(n)\n",
    "    pattern8(n)\n",
    "pattern9(5)"
   ]
  },
  {
   "cell_type": "code",
   "execution_count": 44,
   "metadata": {},
   "outputs": [
    {
     "name": "stdout",
     "output_type": "stream",
     "text": [
      "*\n",
      "**\n",
      "***\n",
      "****\n",
      "*****\n",
      "****\n",
      "***\n",
      "**\n",
      "*\n",
      "\n"
     ]
    }
   ],
   "source": [
    "def pattern10(n):\n",
    "    for i in range(2*n):\n",
    "        if i < n:\n",
    "            for j in range(i+1):\n",
    "                print(\"*\", end = \"\")\n",
    "            print()\n",
    "        else:\n",
    "            for j in range(2*n-i-1):\n",
    "                print(\"*\", end = \"\")\n",
    "            print()\n",
    "pattern10(5)"
   ]
  },
  {
   "cell_type": "code",
   "execution_count": 97,
   "metadata": {},
   "outputs": [
    {
     "name": "stdout",
     "output_type": "stream",
     "text": [
      "1\n",
      "01\n",
      "101\n",
      "0101\n",
      "10101\n"
     ]
    }
   ],
   "source": [
    "def pattern11(n):\n",
    "    for i in range(n):\n",
    "        if i % 2 == 0:\n",
    "            start = 1\n",
    "            for j in range(i+1):\n",
    "                print(start,end = \"\")\n",
    "                start = 1 - start\n",
    "            print()\n",
    "        else:\n",
    "            start = 0\n",
    "            for j in range(i+1):\n",
    "                print(start,end = \"\")\n",
    "                start = 1 - start\n",
    "            print()\n",
    "pattern11(5)"
   ]
  },
  {
   "cell_type": "code",
   "execution_count": 36,
   "metadata": {},
   "outputs": [
    {
     "name": "stdout",
     "output_type": "stream",
     "text": [
      "1      1\n",
      "12    21\n",
      "123  321\n",
      "12344321\n"
     ]
    }
   ],
   "source": [
    "def pattern12(n):\n",
    "    for i in range(n):\n",
    "        for j in range(i+1):\n",
    "            print(j+1, end = \"\")\n",
    "        for j in range(2*(n-1-i)):\n",
    "            print(\" \", end = \"\")\n",
    "        for j in range(i,-1,-1):\n",
    "            print(j+1, end = \"\")\n",
    "        print()\n",
    "pattern12(4)"
   ]
  },
  {
   "cell_type": "code",
   "execution_count": 43,
   "metadata": {},
   "outputs": [
    {
     "name": "stdout",
     "output_type": "stream",
     "text": [
      "1 \n",
      "2 3 \n",
      "4 5 6 \n",
      "7 8 9 10 \n",
      "11 12 13 14 15 \n"
     ]
    }
   ],
   "source": [
    "def pattern13(n):\n",
    "    count = 1\n",
    "    for i in range(n):\n",
    "        for j in range(i+1):\n",
    "            print(count, end = \" \")\n",
    "            count += 1\n",
    "        print()\n",
    "pattern13(5)"
   ]
  },
  {
   "cell_type": "code",
   "execution_count": 49,
   "metadata": {},
   "outputs": [
    {
     "name": "stdout",
     "output_type": "stream",
     "text": [
      "A\n",
      "AB\n",
      "ABC\n",
      "ABCD\n",
      "ABCDE\n"
     ]
    }
   ],
   "source": [
    "def pattern14(n):\n",
    "    for i in range(n):\n",
    "        for j in range(65,65+i+1):\n",
    "            print(chr(j), end = \"\")\n",
    "        print()\n",
    "pattern14(5)"
   ]
  },
  {
   "cell_type": "code",
   "execution_count": 59,
   "metadata": {},
   "outputs": [
    {
     "name": "stdout",
     "output_type": "stream",
     "text": [
      "ABCDE\n",
      "ABCD\n",
      "ABC\n",
      "AB\n",
      "A\n",
      "\n"
     ]
    }
   ],
   "source": [
    "def pattern15(n):\n",
    "    for i in range(n,-1,-1):\n",
    "        for j in range(65,65+i):\n",
    "            print(chr(j), end = \"\")\n",
    "        print()\n",
    "pattern15(5)"
   ]
  },
  {
   "cell_type": "code",
   "execution_count": 66,
   "metadata": {},
   "outputs": [
    {
     "name": "stdout",
     "output_type": "stream",
     "text": [
      "A\n",
      "BB\n",
      "CCC\n",
      "DDDD\n",
      "EEEEE\n"
     ]
    }
   ],
   "source": [
    "def pattern16(n):\n",
    "    for i in range(n):\n",
    "        for j in range(i+1):\n",
    "            print(chr(65+i), end = \"\")\n",
    "        print()\n",
    "pattern16(5)"
   ]
  },
  {
   "cell_type": "code",
   "execution_count": 1,
   "metadata": {},
   "outputs": [
    {
     "name": "stdout",
     "output_type": "stream",
     "text": [
      "     A\n",
      "    ABA\n",
      "   ABCBA\n",
      "  ABCDCBA\n",
      " ABCDEDCBA\n"
     ]
    }
   ],
   "source": [
    "def pattern17(n):\n",
    "    for i in range(n):\n",
    "        for j in range(n-i):\n",
    "            print(\" \", end = \"\")\n",
    "        for j in range(i+1):\n",
    "            print(chr(65+j), end = \"\")\n",
    "        for j in range(i-1,-1,-1):\n",
    "            print(chr(65+j),end = \"\")\n",
    "        print()\n",
    "pattern17(5)"
   ]
  },
  {
   "cell_type": "code",
   "execution_count": 12,
   "metadata": {},
   "outputs": [
    {
     "name": "stdout",
     "output_type": "stream",
     "text": [
      "E\n",
      "ED\n",
      "EDC\n",
      "EDCB\n",
      "EDCBA\n"
     ]
    }
   ],
   "source": [
    "def pattern18(n):\n",
    "    for i in range(n):\n",
    "        for j in range(i+1):\n",
    "            j = n-j\n",
    "            print(chr(64+j), end = \"\")\n",
    "        print()\n",
    "pattern18(5)"
   ]
  },
  {
   "cell_type": "code",
   "execution_count": 22,
   "metadata": {},
   "outputs": [
    {
     "name": "stdout",
     "output_type": "stream",
     "text": [
      "**********\n",
      "****  ****\n",
      "***    ***\n",
      "**      **\n",
      "*        *\n",
      "*        *\n",
      "**      **\n",
      "***    ***\n",
      "****  ****\n",
      "**********\n"
     ]
    }
   ],
   "source": [
    "def pattern19(n):\n",
    "    for i in range(n):\n",
    "        for j in range(n-i):\n",
    "            print(\"*\", end = \"\")\n",
    "        for j in range(2*i):\n",
    "            print(\" \", end = \"\")\n",
    "        for j in range(n-i):\n",
    "            print(\"*\", end = \"\")\n",
    "        print()\n",
    "    for i in range(n-1,-1,-1):\n",
    "        for j in range(n-i):\n",
    "            print(\"*\", end = \"\")\n",
    "        for j in range(2*i):\n",
    "            print(\" \", end = \"\")\n",
    "        for j in range(n-i):\n",
    "            print(\"*\", end = \"\")\n",
    "        print()\n",
    "    \n",
    "pattern19(5)"
   ]
  },
  {
   "cell_type": "code",
   "execution_count": 79,
   "metadata": {},
   "outputs": [
    {
     "name": "stdout",
     "output_type": "stream",
     "text": [
      "*        *\n",
      "**      **\n",
      "***    ***\n",
      "****  ****\n",
      "**********\n",
      "****  ****\n",
      "***    ***\n",
      "**      **\n",
      "*        *\n"
     ]
    }
   ],
   "source": [
    "def pattern20(n):\n",
    "    for i in range(1,2*n):\n",
    "        if i > n:\n",
    "            i = 2*n-i\n",
    "        for j in range(i):\n",
    "            print(\"*\", end = \"\")\n",
    "        for j in range(2*n-2*i):\n",
    "            print(\" \", end = \"\")\n",
    "        for j in range(i):\n",
    "            print(\"*\", end = \"\")\n",
    "        print()\n",
    "pattern20(5)"
   ]
  },
  {
   "cell_type": "code",
   "execution_count": 82,
   "metadata": {},
   "outputs": [
    {
     "name": "stdout",
     "output_type": "stream",
     "text": [
      "*****\n",
      "*   *\n",
      "*   *\n",
      "*   *\n",
      "*****\n"
     ]
    }
   ],
   "source": [
    "def pattern21(n):\n",
    "    for i in range(n):\n",
    "        for j in range(n):\n",
    "            if i == 0 or i == n-1 or j == 0 or j == n-1:\n",
    "                print(\"*\", end = \"\")\n",
    "            else:\n",
    "                print(\" \", end = \"\")\n",
    "        print()\n",
    "pattern21(5)"
   ]
  },
  {
   "cell_type": "code",
   "execution_count": 91,
   "metadata": {},
   "outputs": [
    {
     "name": "stdout",
     "output_type": "stream",
     "text": [
      "555555555\n",
      "544444445\n",
      "543333345\n",
      "543222345\n",
      "543212345\n",
      "543222345\n",
      "543333345\n",
      "544444445\n",
      "555555555\n"
     ]
    }
   ],
   "source": [
    "def pattern22(n):\n",
    "    for i in range(2*n-1):\n",
    "        for j in range(2*n-1):\n",
    "            print(n-min(i,j,2*n-2-i,2*n-2-j), end = \"\")\n",
    "        print()\n",
    "pattern22(5)"
   ]
  },
  {
   "cell_type": "code",
   "execution_count": null,
   "metadata": {},
   "outputs": [],
   "source": []
  }
 ],
 "metadata": {
  "kernelspec": {
   "display_name": "Python 3",
   "language": "python",
   "name": "python3"
  },
  "language_info": {
   "codemirror_mode": {
    "name": "ipython",
    "version": 3
   },
   "file_extension": ".py",
   "mimetype": "text/x-python",
   "name": "python",
   "nbconvert_exporter": "python",
   "pygments_lexer": "ipython3",
   "version": "3.10.13"
  }
 },
 "nbformat": 4,
 "nbformat_minor": 2
}
